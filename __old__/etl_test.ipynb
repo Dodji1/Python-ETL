{
 "cells": [
  {
   "cell_type": "code",
   "execution_count": 17,
   "metadata": {},
   "outputs": [],
   "source": [
    "import glob                         # Manipulation de fichiers\n",
    "import pandas as pd                 # Manipulation de données\n",
    "import xml.etree.ElementTree as ET  # Manipulation de fichier xlm\n",
    "from datetime import datetime       # gestion de temps\n",
    "\n",
    "# Fonctions permettant d’extraire les données de différents formats de fichiers.\n",
    "# .csv .json .xml .xlsx\n",
    "\n",
    "source_fles = r\"..\\source_files\"         # tous les fichiers locals\n",
    "\n",
    "# Extraction de fichier csv\n",
    "def extract_from_csv(file_to_process): \n",
    "    dataframe = pd.read_csv(file_to_process)\n",
    "    return dataframe\n",
    "\n",
    "# Extraction de fichier .xlsx\n",
    "def extract_from_excel(file_to_process):\n",
    "    dataframe = pd.read_excel(file_to_process)\n",
    "    return dataframe\n",
    "\n",
    "# Extraction de fichier .json\n",
    "def extract_from_json(file_to_process): \n",
    "    dataframe = pd.read_json(file_to_process, lines=True)\n",
    "    return dataframe\n",
    "\n",
    "# Extraction de fichier .xlm\n",
    "def extract_from_xml(file_to_process): \n",
    "    dataframe = pd.DataFrame(columns=[\"name\", \"height\", \"weight\"]) \n",
    "    tree = ET.parse(file_to_process) \n",
    "    root = tree.getroot() \n",
    "    for person in root: \n",
    "        name = person.find(\"name\").text \n",
    "        height = float(person.find(\"height\").text) \n",
    "        weight = float(person.find(\"weight\").text) \n",
    "        dataframe = pd.concat([dataframe, pd.DataFrame([{\"name\":name, \"height\":height, \"weight\":weight}])], ignore_index=True) \n",
    "    return dataframe\n",
    "\n",
    "# Extraction de tous les fichiers\n",
    "\n"
   ]
  },
  {
   "cell_type": "code",
   "execution_count": 18,
   "metadata": {},
   "outputs": [],
   "source": [
    "def extract():\n",
    "    extracted_data = pd.DataFrame(columns=['name','height','weight']) # create an empty data frame to hold extracted data     \n",
    "    # process all csv files \n",
    "    for csvfile in glob.glob(f\"{source_fles}/*.csv\"):\n",
    "        extracted_data = pd.concat([extracted_data, pd.DataFrame(extract_from_csv(csvfile))], ignore_index=True)         \n",
    "    # process all json files \n",
    "    for jsonfile in glob.glob(f\"{source_fles}/*.json\"): \n",
    "        extracted_data = pd.concat([extracted_data, pd.DataFrame(extract_from_json(jsonfile))], ignore_index=True)     \n",
    "    # process all xml files \n",
    "    for xmlfile in glob.glob(f\"{source_fles}/*.xml\"): \n",
    "        extracted_data = pd.concat([extracted_data, pd.DataFrame(extract_from_xml(xmlfile))], ignore_index=True)         \n",
    "    return extracted_data"
   ]
  },
  {
   "cell_type": "code",
   "execution_count": 16,
   "metadata": {},
   "outputs": [
    {
     "data": {
      "text/plain": [
       "['..\\\\source_files\\\\source1.csv',\n",
       " '..\\\\source_files\\\\source2.csv',\n",
       " '..\\\\source_files\\\\source3.csv']"
      ]
     },
     "execution_count": 16,
     "metadata": {},
     "output_type": "execute_result"
    }
   ],
   "source": [
    "source_fles = r\"..\\source_files\"\n",
    "glob.glob(f\"{source_fles}/*.csv\")"
   ]
  }
 ],
 "metadata": {
  "kernelspec": {
   "display_name": "base",
   "language": "python",
   "name": "python3"
  },
  "language_info": {
   "codemirror_mode": {
    "name": "ipython",
    "version": 3
   },
   "file_extension": ".py",
   "mimetype": "text/x-python",
   "name": "python",
   "nbconvert_exporter": "python",
   "pygments_lexer": "ipython3",
   "version": "3.11.5"
  }
 },
 "nbformat": 4,
 "nbformat_minor": 2
}
