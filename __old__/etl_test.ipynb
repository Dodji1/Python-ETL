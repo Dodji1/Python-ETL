{
 "cells": [
  {
   "cell_type": "markdown",
   "metadata": {},
   "source": [
    "### FILE EXTRACT"
   ]
  },
  {
   "cell_type": "code",
   "execution_count": 17,
   "metadata": {},
   "outputs": [],
   "source": [
    "import glob                         # Manipulation de fichiers\n",
    "import pandas as pd                 # Manipulation de données\n",
    "import xml.etree.ElementTree as ET  # Manipulation de fichier xlm\n",
    "from datetime import datetime       # gestion de temps\n",
    "\n",
    "# Fonctions permettant d’extraire les données de différents formats de fichiers.\n",
    "# .csv .json .xml .xlsx\n",
    "\n",
    "source_fles = r\"..\\source_files\"         # tous les fichiers locals\n",
    "\n",
    "# Extraction de fichier csv\n",
    "def extract_from_csv(file_to_process): \n",
    "    dataframe = pd.read_csv(file_to_process)\n",
    "    return dataframe\n",
    "\n",
    "# Extraction de fichier .xlsx\n",
    "def extract_from_excel(file_to_process):\n",
    "    dataframe = pd.read_excel(file_to_process)\n",
    "    return dataframe\n",
    "\n",
    "# Extraction de fichier .json\n",
    "def extract_from_json(file_to_process): \n",
    "    dataframe = pd.read_json(file_to_process, lines=True)\n",
    "    return dataframe\n",
    "\n",
    "# Extraction de fichier .xlm\n",
    "def extract_from_xml(file_to_process): \n",
    "    dataframe = pd.DataFrame(columns=[\"name\", \"height\", \"weight\"]) \n",
    "    tree = ET.parse(file_to_process) \n",
    "    root = tree.getroot() \n",
    "    for person in root: \n",
    "        name = person.find(\"name\").text \n",
    "        height = float(person.find(\"height\").text) \n",
    "        weight = float(person.find(\"weight\").text) \n",
    "        dataframe = pd.concat([dataframe, pd.DataFrame([{\"name\":name, \"height\":height, \"weight\":weight}])], ignore_index=True) \n",
    "    return dataframe\n",
    "\n",
    "# Extraction de tous les fichiers\n",
    "\n"
   ]
  },
  {
   "cell_type": "code",
   "execution_count": 18,
   "metadata": {},
   "outputs": [],
   "source": [
    "def extract():\n",
    "    extracted_data = pd.DataFrame(columns=['name','height','weight']) # create an empty data frame to hold extracted data     \n",
    "    # process all csv files \n",
    "    for csvfile in glob.glob(f\"{source_fles}/*.csv\"):\n",
    "        extracted_data = pd.concat([extracted_data, pd.DataFrame(extract_from_csv(csvfile))], ignore_index=True)         \n",
    "    # process all json files \n",
    "    for jsonfile in glob.glob(f\"{source_fles}/*.json\"): \n",
    "        extracted_data = pd.concat([extracted_data, pd.DataFrame(extract_from_json(jsonfile))], ignore_index=True)     \n",
    "    # process all xml files \n",
    "    for xmlfile in glob.glob(f\"{source_fles}/*.xml\"): \n",
    "        extracted_data = pd.concat([extracted_data, pd.DataFrame(extract_from_xml(xmlfile))], ignore_index=True)         \n",
    "    return extracted_data"
   ]
  },
  {
   "cell_type": "code",
   "execution_count": 16,
   "metadata": {},
   "outputs": [
    {
     "data": {
      "text/plain": [
       "['..\\\\source_files\\\\source1.csv',\n",
       " '..\\\\source_files\\\\source2.csv',\n",
       " '..\\\\source_files\\\\source3.csv']"
      ]
     },
     "execution_count": 16,
     "metadata": {},
     "output_type": "execute_result"
    }
   ],
   "source": [
    "source_fles = r\"..\\source_files\"\n",
    "glob.glob(f\"{source_fles}/*.csv\")"
   ]
  },
  {
   "cell_type": "markdown",
   "metadata": {},
   "source": [
    "### WEB SCRAPING"
   ]
  },
  {
   "cell_type": "code",
   "execution_count": 5,
   "metadata": {},
   "outputs": [],
   "source": [
    "import requests\n",
    "import sqlite3\n",
    "import pandas as pd\n",
    "from bs4 import BeautifulSoup as bs"
   ]
  },
  {
   "cell_type": "code",
   "execution_count": 38,
   "metadata": {},
   "outputs": [],
   "source": [
    "url = 'https://web.archive.org/web/20230902185655/https://en.everybodywiki.com/100_Most_Highly-Ranked_Films'\n",
    "db_name = r'../data/movies.db'\n",
    "table_name = 'top_film'\n",
    "csv_path = r'../data/top_film.csv'\n",
    "df = pd.DataFrame(columns=[\"average_rank\",\"film\",\"year\"])\n",
    "count = 0"
   ]
  },
  {
   "cell_type": "code",
   "execution_count": 6,
   "metadata": {},
   "outputs": [],
   "source": [
    "r = requests.get(url)                            # GET HTTS PAGE\n",
    "html_page = r.text                               # CONVET HTTP TO TEXT\n",
    "soup = bs(html_page, 'html.parser')"
   ]
  },
  {
   "cell_type": "code",
   "execution_count": 25,
   "metadata": {},
   "outputs": [],
   "source": []
  },
  {
   "cell_type": "code",
   "execution_count": 50,
   "metadata": {},
   "outputs": [],
   "source": [
    "tables = soup.find_all('tbody')\n",
    "rows = tables[0].find_all('tr')\n",
    "\n",
    "for row in rows:\n",
    "    col = row.find_all('td')\n",
    "    if len(col)!=0:\n",
    "        data_dict = {\"average_rank\": col[0].contents[0],\n",
    "                        \"film\": col[1].contents[0],\n",
    "                        \"year\": col[2].contents[0]}\n",
    "        df1 = pd.DataFrame(data_dict, index=[0])\n",
    "        df = pd.concat([df,df1], ignore_index=True)\n",
    "        count+=1"
   ]
  },
  {
   "cell_type": "code",
   "execution_count": null,
   "metadata": {},
   "outputs": [],
   "source": []
  },
  {
   "cell_type": "code",
   "execution_count": 51,
   "metadata": {},
   "outputs": [],
   "source": [
    "db_name = '../data/movies.db'\n",
    "table_name = 'top_film'\n",
    "\n",
    "conn = sqlite3.connect(db_name)\n",
    "df.to_sql(table_name, conn, if_exists='replace', index=False)\n",
    "\n",
    "# Exécuter une requête SQL pour sélectionner toutes les données de la table\n",
    "query = f\"SELECT * FROM {table_name}\"\n",
    "df_result = pd.read_sql_query(query, conn)"
   ]
  },
  {
   "cell_type": "code",
   "execution_count": 55,
   "metadata": {},
   "outputs": [],
   "source": [
    "query = f\"SELECT * FROM {table_name}\"\n",
    "df_result = pd.read_sql_query(query, conn)\n"
   ]
  },
  {
   "cell_type": "code",
   "execution_count": 47,
   "metadata": {},
   "outputs": [
    {
     "name": "stdout",
     "output_type": "stream",
     "text": [
      "             title           director  year\n",
      "0        Inception  Christopher Nolan  2010\n",
      "1     Interstellar  Christopher Nolan  2014\n",
      "2  The Dark Knight  Christopher Nolan  2008\n"
     ]
    }
   ],
   "source": [
    "import sqlite3\n",
    "import pandas as pd\n",
    "\n",
    "# Nom de la base de données et de la table\n",
    "db_name = '../data/movies222.db'\n",
    "table_name = 'top_film'\n",
    "\n",
    "# Se connecter à la base de données SQLite\n",
    "conn = sqlite3.connect(db_name)\n",
    "\n",
    "# Exemple de DataFrame à insérer dans la base de données\n",
    "data = {'title': ['Inception', 'Interstellar', 'The Dark Knight'],\n",
    "        'director': ['Christopher Nolan', 'Christopher Nolan', 'Christopher Nolan'],\n",
    "        'year': [2010, 2014, 2008]}\n",
    "df = pd.DataFrame(data)\n",
    "\n",
    "# Insérer le DataFrame dans une table SQLite\n",
    "df.to_sql(table_name, conn, if_exists='replace', index=False)\n",
    "\n",
    "# Exécuter une requête SQL pour sélectionner toutes les données de la table\n",
    "query = f\"SELECT * FROM {table_name}\"\n",
    "df_result = pd.read_sql_query(query, conn)\n",
    "\n",
    "# Afficher les résultats de la requête\n",
    "print(df_result)\n",
    "\n",
    "# Fermer la connexion à la base de données\n",
    "conn.close()\n"
   ]
  },
  {
   "cell_type": "code",
   "execution_count": 48,
   "metadata": {},
   "outputs": [
    {
     "data": {
      "text/html": [
       "<div>\n",
       "<style scoped>\n",
       "    .dataframe tbody tr th:only-of-type {\n",
       "        vertical-align: middle;\n",
       "    }\n",
       "\n",
       "    .dataframe tbody tr th {\n",
       "        vertical-align: top;\n",
       "    }\n",
       "\n",
       "    .dataframe thead th {\n",
       "        text-align: right;\n",
       "    }\n",
       "</style>\n",
       "<table border=\"1\" class=\"dataframe\">\n",
       "  <thead>\n",
       "    <tr style=\"text-align: right;\">\n",
       "      <th></th>\n",
       "      <th>title</th>\n",
       "      <th>director</th>\n",
       "      <th>year</th>\n",
       "    </tr>\n",
       "  </thead>\n",
       "  <tbody>\n",
       "    <tr>\n",
       "      <th>0</th>\n",
       "      <td>Inception</td>\n",
       "      <td>Christopher Nolan</td>\n",
       "      <td>2010</td>\n",
       "    </tr>\n",
       "    <tr>\n",
       "      <th>1</th>\n",
       "      <td>Interstellar</td>\n",
       "      <td>Christopher Nolan</td>\n",
       "      <td>2014</td>\n",
       "    </tr>\n",
       "    <tr>\n",
       "      <th>2</th>\n",
       "      <td>The Dark Knight</td>\n",
       "      <td>Christopher Nolan</td>\n",
       "      <td>2008</td>\n",
       "    </tr>\n",
       "  </tbody>\n",
       "</table>\n",
       "</div>"
      ],
      "text/plain": [
       "             title           director  year\n",
       "0        Inception  Christopher Nolan  2010\n",
       "1     Interstellar  Christopher Nolan  2014\n",
       "2  The Dark Knight  Christopher Nolan  2008"
      ]
     },
     "execution_count": 48,
     "metadata": {},
     "output_type": "execute_result"
    }
   ],
   "source": [
    "df"
   ]
  },
  {
   "cell_type": "code",
   "execution_count": 49,
   "metadata": {},
   "outputs": [
    {
     "data": {
      "text/html": [
       "<div>\n",
       "<style scoped>\n",
       "    .dataframe tbody tr th:only-of-type {\n",
       "        vertical-align: middle;\n",
       "    }\n",
       "\n",
       "    .dataframe tbody tr th {\n",
       "        vertical-align: top;\n",
       "    }\n",
       "\n",
       "    .dataframe thead th {\n",
       "        text-align: right;\n",
       "    }\n",
       "</style>\n",
       "<table border=\"1\" class=\"dataframe\">\n",
       "  <thead>\n",
       "    <tr style=\"text-align: right;\">\n",
       "      <th></th>\n",
       "      <th>title</th>\n",
       "      <th>director</th>\n",
       "      <th>year</th>\n",
       "    </tr>\n",
       "  </thead>\n",
       "  <tbody>\n",
       "    <tr>\n",
       "      <th>0</th>\n",
       "      <td>Inception</td>\n",
       "      <td>Christopher Nolan</td>\n",
       "      <td>2010</td>\n",
       "    </tr>\n",
       "    <tr>\n",
       "      <th>1</th>\n",
       "      <td>Interstellar</td>\n",
       "      <td>Christopher Nolan</td>\n",
       "      <td>2014</td>\n",
       "    </tr>\n",
       "    <tr>\n",
       "      <th>2</th>\n",
       "      <td>The Dark Knight</td>\n",
       "      <td>Christopher Nolan</td>\n",
       "      <td>2008</td>\n",
       "    </tr>\n",
       "  </tbody>\n",
       "</table>\n",
       "</div>"
      ],
      "text/plain": [
       "             title           director  year\n",
       "0        Inception  Christopher Nolan  2010\n",
       "1     Interstellar  Christopher Nolan  2014\n",
       "2  The Dark Knight  Christopher Nolan  2008"
      ]
     },
     "execution_count": 49,
     "metadata": {},
     "output_type": "execute_result"
    }
   ],
   "source": [
    "df_result"
   ]
  }
 ],
 "metadata": {
  "kernelspec": {
   "display_name": "base",
   "language": "python",
   "name": "python3"
  },
  "language_info": {
   "codemirror_mode": {
    "name": "ipython",
    "version": 3
   },
   "file_extension": ".py",
   "mimetype": "text/x-python",
   "name": "python",
   "nbconvert_exporter": "python",
   "pygments_lexer": "ipython3",
   "version": "3.11.5"
  }
 },
 "nbformat": 4,
 "nbformat_minor": 2
}
